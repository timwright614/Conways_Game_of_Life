{
  "nbformat": 4,
  "nbformat_minor": 0,
  "metadata": {
    "colab": {
      "name": "Conways_Game_of_Life.ipynb",
      "provenance": [],
      "collapsed_sections": []
    },
    "kernelspec": {
      "name": "python3",
      "display_name": "Python 3"
    },
    "language_info": {
      "name": "python"
    }
  },
  "cells": [
    {
      "cell_type": "markdown",
      "source": [
        "https://en.wikipedia.org/wiki/Conway%27s_Game_of_Life"
      ],
      "metadata": {
        "id": "rJAi3deHmWHa"
      }
    },
    {
      "cell_type": "code",
      "execution_count": 1,
      "metadata": {
        "id": "UpUUqnro9yeh"
      },
      "outputs": [],
      "source": [
        "# Library imports\n",
        "\n",
        "import matplotlib.pyplot as plt\n",
        "from matplotlib import colors\n",
        "import numpy as np\n",
        "from IPython.display import clear_output \n",
        "import time"
      ]
    },
    {
      "cell_type": "code",
      "source": [
        "def life_or_death(address, board):\n",
        "    # determines the next state of given cell (address) on a \n",
        "    #board (rectangular array of arrays)\n",
        "    \n",
        "    y,x = address\n",
        "   \n",
        "    if y > 0: \n",
        "        y1 = y-1\n",
        "    else: \n",
        "        y1 = 0\n",
        "\n",
        "    if y < len(board):\n",
        "        y2 = y+1\n",
        "    else: \n",
        "        y2 = y\n",
        "\n",
        "    if  x > 0: \n",
        "        x1 = x-1\n",
        "    else: \n",
        "        x1 = 0\n",
        "\n",
        "    if x < len(board[0]):\n",
        "        x2 = x+1\n",
        "    else: \n",
        "        x2 = x\n",
        "\n",
        "    env = board[y1:y2+1,x1:x2+1]\n",
        "\n",
        "    if board[y,x] == 0:\n",
        "        if env.sum() == 3:\n",
        "            return True\n",
        "        else:\n",
        "            return False\n",
        "\n",
        "    elif board[y,x] == 1:\n",
        "        if env.sum() > 2 and env.sum() < 5:\n",
        "            return True\n",
        "        else:\n",
        "            return False\n"
      ],
      "metadata": {
        "id": "o_6oWvvGB7Nr"
      },
      "execution_count": 2,
      "outputs": []
    },
    {
      "cell_type": "code",
      "source": [
        "def show_life(board, figsize, cmap):\n",
        "    # displays a board (input), with display size (figsize),\n",
        "    # and colour mapping (cmap) as inputs\n",
        "    fig, ax = plt.subplots(figsize = (10,10))\n",
        "    bounds = [0,0.5,1]\n",
        "    norm = colors.BoundaryNorm(bounds, cmap.N)\n",
        "    ax.grid(which='major', axis='both', linestyle='-', color='k', linewidth=1)\n",
        "    ax.set_xticks(ticks = np.arange(-.5, len(board[0]), 1));\n",
        "    ax.set_yticks(np.arange(-.5, len(board), 1));\n",
        "    ax.tick_params(labelbottom=False,labelleft=False) \n",
        "    ax.imshow(board, cmap=cmap, norm=norm)\n",
        "    plt.show()"
      ],
      "metadata": {
        "id": "LSTn3JJc-Avt"
      },
      "execution_count": 3,
      "outputs": []
    },
    {
      "cell_type": "code",
      "source": [
        "def insert_gliders(board, insertions_points):\n",
        "    # inserts the below array into the board. This arrangement of life will \n",
        "    # propogate down and right across the display board\n",
        "\n",
        "    glider =[[0,0,0,0,0],\n",
        "             [0,0,0,1,0],\n",
        "             [0,1,0,1,0],\n",
        "             [0,0,1,1,0],\n",
        "             [0,0,0,0,0]]\n",
        "\n",
        "    for point in insertions_points:\n",
        "\n",
        "        board[point[0]:(point[0]+len(glider)),point[1]:(point[1]+len(glider[0]))\n",
        "        ] = glider"
      ],
      "metadata": {
        "id": "li0P8CCBYbx8"
      },
      "execution_count": 4,
      "outputs": []
    },
    {
      "cell_type": "code",
      "source": [
        "\n",
        "#colours for life/lifeless cells\n",
        "life_colour = 'LawnGreen'\n",
        "lifeless_colour = 'DarkGray'\n",
        "cmap = colors.ListedColormap([lifeless_colour, life_colour])\n",
        "\n",
        "# output figure size\n",
        "figsize = (10,10)\n",
        "\n",
        "#add sleep in seconds to pause between epochs\n",
        "sleep = 0\n",
        "\n",
        "# board size in cells\n",
        "board_size = (50,50)\n",
        "\n",
        "# specify life probability (0-1) for each cell\n",
        "chance_of_life = 0.2\n",
        "\n",
        "# maximum number of epochs (set limit_epochs = True to activate)\n",
        "limit_epochs = True\n",
        "max_epochs = 100\n",
        "\n",
        "# isert glider objects (group of cells that moves down and right accross board)\n",
        "# (set insert_gliders_on = True)\n",
        "insert_gliders_on = True\n",
        "glider_isertion_points = [(0,0),\n",
        "                          (10,10),\n",
        "                          (15,20)]\n",
        "\n",
        "# game of life logic\n",
        "board = (np.random.rand(board_size[0],board_size[1]) < chance_of_life)\n",
        "\n",
        "if insert_gliders_on:\n",
        "    insert_gliders(board, glider_isertion_points)\n",
        "\n",
        "epoch = 1\n",
        "while board.sum() != 0 and board.sum() != board.size:\n",
        "    if limit_epochs == True and max_epochs < epoch:\n",
        "        print('Epoch limit reached')\n",
        "        break\n",
        "    clear_output(wait=True)\n",
        "    show_life(board, figsize, cmap)\n",
        "    print(f'Epoch {epoch}')\n",
        "    \n",
        "    next_board = np.zeros(board_size)\n",
        "    \n",
        "    for y in range(board_size[0]):\n",
        "        for x in range(board_size[1]):\n",
        "            next_board[y,x] = life_or_death(address=(y,x), board = board)\n",
        "    board = next_board\n",
        "    \n",
        "    if epoch == 1:\n",
        "        time.sleep(3)\n",
        "\n",
        "    if sleep > 0:\n",
        "        time.sleep(sleep)\n",
        "    epoch += 1"
      ],
      "metadata": {
        "id": "zrIRWBNZq-Re",
        "colab": {
          "base_uri": "https://localhost:8080/",
          "height": 614
        },
        "outputId": "8e99c07c-8d83-4bfe-f8c7-445a3c8d1eec"
      },
      "execution_count": 5,
      "outputs": [
        {
          "output_type": "display_data",
          "data": {
            "text/plain": [
              "<Figure size 720x720 with 1 Axes>"
            ],
            "image/png": "[encoded data removed]"
          },
          "metadata": {}
        },
        {
          "output_type": "stream",
          "name": "stdout",
          "text": [
            "Epoch 100\n",
            "Epoch limit reached\n"
          ]
        }
      ]
    },
    {
      "cell_type": "code",
      "source": [
        ""
      ],
      "metadata": {
        "id": "U83sREZzdb4T"
      },
      "execution_count": null,
      "outputs": []
    }
  ]
}